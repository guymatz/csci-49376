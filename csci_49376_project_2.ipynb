{
  "nbformat": 4,
  "nbformat_minor": 0,
  "metadata": {
    "colab": {
      "provenance": [],
      "include_colab_link": true
    },
    "kernelspec": {
      "name": "python3",
      "display_name": "Python 3"
    },
    "language_info": {
      "name": "python"
    }
  },
  "cells": [
    {
      "cell_type": "markdown",
      "metadata": {
        "id": "view-in-github",
        "colab_type": "text"
      },
      "source": [
        "<a href=\"https://colab.research.google.com/github/guymatz/csci-49376/blob/develop/csci_49376_project_2.ipynb\" target=\"_parent\"><img src=\"https://colab.research.google.com/assets/colab-badge.svg\" alt=\"Open In Colab\"/></a>"
      ]
    },
    {
      "cell_type": "code",
      "source": [
        "from google.colab import drive\n",
        "drive.mount('/content/drive')\n",
        "#drive.flush_and_unmount()"
      ],
      "metadata": {
        "id": "8CjGO5KZihVF",
        "colab": {
          "base_uri": "https://localhost:8080/"
        },
        "outputId": "3a846fc4-9615-4c55-a82c-5def6d7fa3b2"
      },
      "execution_count": 31,
      "outputs": [
        {
          "output_type": "stream",
          "name": "stdout",
          "text": [
            "Mounted at /content/drive\n"
          ]
        }
      ]
    },
    {
      "cell_type": "code",
      "execution_count": 29,
      "metadata": {
        "id": "k9fFnE51muoC",
        "outputId": "8ef3b809-8c9f-45d5-bb5e-1b631b9283cc",
        "colab": {
          "base_uri": "https://localhost:8080/"
        }
      },
      "outputs": [
        {
          "output_type": "stream",
          "name": "stdout",
          "text": [
            "Looking in indexes: https://pypi.org/simple, https://us-python.pkg.dev/colab-wheels/public/simple/\n",
            "Collecting pyspark\n",
            "  Downloading pyspark-3.3.2.tar.gz (281.4 MB)\n",
            "\u001b[2K     \u001b[90m━━━━━━━━━━━━━━━━━━━━━━━━━━━━━━━━━━━━━━━\u001b[0m \u001b[32m281.4/281.4 MB\u001b[0m \u001b[31m5.4 MB/s\u001b[0m eta \u001b[36m0:00:00\u001b[0m\n",
            "\u001b[?25h  Preparing metadata (setup.py) ... \u001b[?25l\u001b[?25hdone\n",
            "Collecting py4j==0.10.9.5\n",
            "  Downloading py4j-0.10.9.5-py2.py3-none-any.whl (199 kB)\n",
            "\u001b[2K     \u001b[90m━━━━━━━━━━━━━━━━━━━━━━━━━━━━━━━━━━━━━━\u001b[0m \u001b[32m199.7/199.7 KB\u001b[0m \u001b[31m22.8 MB/s\u001b[0m eta \u001b[36m0:00:00\u001b[0m\n",
            "\u001b[?25hBuilding wheels for collected packages: pyspark\n",
            "  Building wheel for pyspark (setup.py) ... \u001b[?25l\u001b[?25hdone\n",
            "  Created wheel for pyspark: filename=pyspark-3.3.2-py2.py3-none-any.whl size=281824028 sha256=ae7a4c1ab92e2ee3a69818a9969541a059777f98d09d214c4b9750498e71cfd0\n",
            "  Stored in directory: /root/.cache/pip/wheels/6c/e3/9b/0525ce8a69478916513509d43693511463c6468db0de237c86\n",
            "Successfully built pyspark\n",
            "Installing collected packages: py4j, pyspark\n",
            "  Attempting uninstall: py4j\n",
            "    Found existing installation: py4j 0.10.9.7\n",
            "    Uninstalling py4j-0.10.9.7:\n",
            "      Successfully uninstalled py4j-0.10.9.7\n",
            "Successfully installed py4j-0.10.9.5 pyspark-3.3.2\n"
          ]
        }
      ],
      "source": [
        "!pip install pyspark"
      ]
    },
    {
      "cell_type": "code",
      "source": [
        "# Import SparkSession\n",
        "from pyspark.sql import SparkSession\n",
        "from pyspark.sql import functions\n",
        "# Create a Spark Session\n",
        "ss = SparkSession.builder.master(\"local[*]\").getOrCreate()"
      ],
      "metadata": {
        "id": "tyNSMVr8mx8h"
      },
      "execution_count": 30,
      "outputs": []
    },
    {
      "cell_type": "code",
      "source": [
        "edges = ss.read.csv(\"/content/drive/MyDrive/School/CSCI/Big-data/edges.tsv\", header=True, sep=\"\\t\")\n",
        "nodes = ss.read.csv(\"/content/drive/MyDrive/School/CSCI/Big-data/nodes.tsv\", header=True, sep=\"\\t\")"
      ],
      "metadata": {
        "id": "t7oQMB90nKj_"
      },
      "execution_count": 48,
      "outputs": []
    },
    {
      "cell_type": "code",
      "source": [
        "print(f\"Edges: {edges.count()}\")\n",
        "print(f\"Nodes: {nodes.count()}\")"
      ],
      "metadata": {
        "id": "-EFcXxjrnRn8",
        "colab": {
          "base_uri": "https://localhost:8080/"
        },
        "outputId": "1b2cd2d6-7251-4fcc-fbd2-6474e449dc06"
      },
      "execution_count": 49,
      "outputs": [
        {
          "output_type": "stream",
          "name": "stdout",
          "text": [
            "Edges: 1292203\n",
            "Nodes: 23036\n"
          ]
        }
      ]
    },
    {
      "cell_type": "code",
      "source": [
        "# For each drug, compute the number of genes\n",
        "# and the number of diseases associated with the\n",
        "# drug. Output results with top 5 number of genes in a\n",
        "# descending order"
      ],
      "metadata": {
        "id": "DaFoKBf9nUx0"
      },
      "execution_count": 50,
      "outputs": []
    },
    {
      "cell_type": "code",
      "source": [
        "compounds = edges.filter(\n",
        "    edges.source.startswith('Compound') &\n",
        "    (\n",
        "        edges.target.startswith('Gene') \n",
        "        |\n",
        "        edges.target.startswith('Disease')\n",
        "    )\n",
        ")"
      ],
      "metadata": {
        "id": "onta_8fvneu1"
      },
      "execution_count": 51,
      "outputs": []
    },
    {
      "cell_type": "code",
      "source": [
        "compounds.sample(.01).show()"
      ],
      "metadata": {
        "colab": {
          "base_uri": "https://localhost:8080/"
        },
        "id": "TiSTUCzno-6P",
        "outputId": "bfa0b107-efa3-42a9-b069-acd970685b0d"
      },
      "execution_count": 52,
      "outputs": [
        {
          "output_type": "stream",
          "name": "stdout",
          "text": [
            "+-----------------+--------+-------------------+\n",
            "|           source|metaedge|             target|\n",
            "+-----------------+--------+-------------------+\n",
            "|Compound::DB00860|     CtD| Disease::DOID:3083|\n",
            "|Compound::DB00178|     CtD|Disease::DOID:10763|\n",
            "|Compound::DB00688|     CtD| Disease::DOID:9074|\n",
            "|Compound::DB00620|     CtD| Disease::DOID:7148|\n",
            "|Compound::DB01174|     CtD| Disease::DOID:1826|\n",
            "|Compound::DB00273|     CtD| Disease::DOID:6364|\n",
            "|Compound::DB00570|     CbG|        Gene::10382|\n",
            "|Compound::DB01088|     CbG|         Gene::5142|\n",
            "|Compound::DB05294|     CbG|         Gene::8767|\n",
            "|Compound::DB00665|     CbG|         Gene::1558|\n",
            "|Compound::DB00841|     CbG|          Gene::154|\n",
            "|Compound::DB01166|     CbG|         Gene::1551|\n",
            "|Compound::DB00163|     CbG|         Gene::2947|\n",
            "|Compound::DB00882|     CbG|        Gene::10280|\n",
            "|Compound::DB01201|     CbG|        Gene::64816|\n",
            "|Compound::DB00334|     CbG|         Gene::3351|\n",
            "|Compound::DB00943|     CbG|         Gene::9356|\n",
            "|Compound::DB00149|     CbG|        Gene::51520|\n",
            "|Compound::DB04868|     CbG|          Gene::771|\n",
            "|Compound::DB06616|     CbG|        Gene::11183|\n",
            "+-----------------+--------+-------------------+\n",
            "only showing top 20 rows\n",
            "\n"
          ]
        }
      ]
    },
    {
      "cell_type": "code",
      "source": [
        "filtered_compounds = compounds.rdd.map(lambda x: ((x.source,\"G\"), 1) if x.target.startswith(\"Gene\") else ((x.source, \"D\"), 1))\n",
        "filtered_compounds.take(10)"
      ],
      "metadata": {
        "colab": {
          "base_uri": "https://localhost:8080/"
        },
        "id": "hVZV9OcNpTGo",
        "outputId": "0db7ba35-e1d1-4f87-f7e4-bde20220d3b7"
      },
      "execution_count": 54,
      "outputs": [
        {
          "output_type": "execute_result",
          "data": {
            "text/plain": [
              "[(('Compound::DB00997', 'D'), 1),\n",
              " (('Compound::DB00206', 'D'), 1),\n",
              " (('Compound::DB00960', 'D'), 1),\n",
              " (('Compound::DB00665', 'D'), 1),\n",
              " (('Compound::DB00290', 'D'), 1),\n",
              " (('Compound::DB01232', 'D'), 1),\n",
              " (('Compound::DB00555', 'D'), 1),\n",
              " (('Compound::DB00444', 'D'), 1),\n",
              " (('Compound::DB00860', 'D'), 1),\n",
              " (('Compound::DB00635', 'D'), 1)]"
            ]
          },
          "metadata": {},
          "execution_count": 54
        }
      ]
    },
    {
      "cell_type": "code",
      "source": [
        "filtered_compound_counts = filtered_compounds.reduceByKey(lambda a,b:a + b)\n",
        "filtered_compound_counts.take(5)"
      ],
      "metadata": {
        "colab": {
          "base_uri": "https://localhost:8080/"
        },
        "id": "Iu4iaTgxo9Yk",
        "outputId": "95dc52cf-3188-4a79-ca71-f7fc00fcfce3"
      },
      "execution_count": 55,
      "outputs": [
        {
          "output_type": "execute_result",
          "data": {
            "text/plain": [
              "[(('Compound::DB00960', 'D'), 1),\n",
              " (('Compound::DB00665', 'D'), 1),\n",
              " (('Compound::DB01232', 'D'), 1),\n",
              " (('Compound::DB00555', 'D'), 3),\n",
              " (('Compound::DB00635', 'D'), 17)]"
            ]
          },
          "metadata": {},
          "execution_count": 55
        }
      ]
    },
    {
      "cell_type": "code",
      "source": [
        "sorted_count = filtered_compound_counts.sortBy(lambda x: x[1], ascending=False)\n",
        "sorted_count.take(5)"
      ],
      "metadata": {
        "id": "MGzSAAI9pyM5",
        "colab": {
          "base_uri": "https://localhost:8080/"
        },
        "outputId": "3364027c-0fb2-4381-9e62-bdb63b3764ea"
      },
      "execution_count": 56,
      "outputs": [
        {
          "output_type": "execute_result",
          "data": {
            "text/plain": [
              "[(('Compound::DB08865', 'G'), 585),\n",
              " (('Compound::DB01254', 'G'), 564),\n",
              " (('Compound::DB00997', 'G'), 532),\n",
              " (('Compound::DB00570', 'G'), 523),\n",
              " (('Compound::DB00390', 'G'), 522)]"
            ]
          },
          "metadata": {},
          "execution_count": 56
        }
      ]
    },
    {
      "cell_type": "code",
      "source": [
        "# Q2: Compute the number of diseases associated\n",
        "# with 1, 2, 3, …, n drugs. Output results with the top\n",
        "# 5 number of diseases in a descending order.\n",
        "disease_compounds = edges.filter(\n",
        "    edges.source.startswith('Compound') &\n",
        "    (\n",
        "        edges.target.startswith('Disease')\n",
        "    )\n",
        "\n",
        ")"
      ],
      "metadata": {
        "id": "AXSFB6PAB3Yi"
      },
      "execution_count": null,
      "outputs": []
    },
    {
      "cell_type": "code",
      "source": [
        "filtered_disease_compounds = disease_compounds.rdd.map(lambda x: (x.target,1))\n",
        "filtered_disease_compounds.take(5)\n",
        "filtered_disease_compound_counts = filtered_disease_compounds.reduceByKey(lambda a,b:a + b)\n",
        "sorted_disease_count = filtered_disease_compound_counts.sortBy(lambda x: x[1], ascending=False)\n",
        "sorted_disease_count.take(5)"
      ],
      "metadata": {
        "colab": {
          "base_uri": "https://localhost:8080/"
        },
        "id": "coD5GCCIB-Bd",
        "outputId": "4c52a67f-1a1e-4504-d91e-63402373ac2f"
      },
      "execution_count": null,
      "outputs": [
        {
          "output_type": "execute_result",
          "data": {
            "text/plain": [
              "[('Disease::DOID:10763', 70),\n",
              " ('Disease::DOID:2531', 53),\n",
              " ('Disease::DOID:1612', 43),\n",
              " ('Disease::DOID:2841', 40),\n",
              " ('Disease::DOID:3393', 38)]"
            ]
          },
          "metadata": {},
          "execution_count": 13
        }
      ]
    },
    {
      "cell_type": "code",
      "source": [
        "# Q3: Get the name of drugs that have the top 5 number of genes. Output the results."
      ],
      "metadata": {
        "id": "A7-U3PMNCBwA"
      },
      "execution_count": null,
      "outputs": []
    }
  ]
}