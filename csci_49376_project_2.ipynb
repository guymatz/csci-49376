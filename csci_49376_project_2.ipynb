{
  "nbformat": 4,
  "nbformat_minor": 0,
  "metadata": {
    "colab": {
      "provenance": [],
      "include_colab_link": true
    },
    "kernelspec": {
      "name": "python3",
      "display_name": "Python 3"
    },
    "language_info": {
      "name": "python"
    }
  },
  "cells": [
    {
      "cell_type": "markdown",
      "metadata": {
        "id": "view-in-github",
        "colab_type": "text"
      },
      "source": [
        "<a href=\"https://colab.research.google.com/github/guymatz/csci-49376/blob/develop/csci_49376_project_2.ipynb\" target=\"_parent\"><img src=\"https://colab.research.google.com/assets/colab-badge.svg\" alt=\"Open In Colab\"/></a>"
      ]
    },
    {
      "cell_type": "code",
      "source": [
        "from google.colab import drive\n",
        "drive.mount('/content/drive')\n",
        "#drive.flush_and_unmount()"
      ],
      "metadata": {
        "id": "8CjGO5KZihVF",
        "colab": {
          "base_uri": "https://localhost:8080/"
        },
        "outputId": "93ed552e-7c16-406d-9415-29c6bb3fd5a5"
      },
      "execution_count": 1,
      "outputs": [
        {
          "output_type": "stream",
          "name": "stdout",
          "text": [
            "Mounted at /content/drive\n"
          ]
        }
      ]
    },
    {
      "cell_type": "code",
      "execution_count": 2,
      "metadata": {
        "id": "k9fFnE51muoC",
        "colab": {
          "base_uri": "https://localhost:8080/"
        },
        "outputId": "02b299ec-32bb-4115-b35a-d250626fb898"
      },
      "outputs": [
        {
          "output_type": "stream",
          "name": "stdout",
          "text": [
            "Looking in indexes: https://pypi.org/simple, https://us-python.pkg.dev/colab-wheels/public/simple/\n",
            "Collecting pyspark\n",
            "  Downloading pyspark-3.3.2.tar.gz (281.4 MB)\n",
            "\u001b[2K     \u001b[90m━━━━━━━━━━━━━━━━━━━━━━━━━━━━━━━━━━━━━━━\u001b[0m \u001b[32m281.4/281.4 MB\u001b[0m \u001b[31m5.1 MB/s\u001b[0m eta \u001b[36m0:00:00\u001b[0m\n",
            "\u001b[?25h  Preparing metadata (setup.py) ... \u001b[?25l\u001b[?25hdone\n",
            "Collecting py4j==0.10.9.5\n",
            "  Downloading py4j-0.10.9.5-py2.py3-none-any.whl (199 kB)\n",
            "\u001b[2K     \u001b[90m━━━━━━━━━━━━━━━━━━━━━━━━━━━━━━━━━━━━━━\u001b[0m \u001b[32m199.7/199.7 KB\u001b[0m \u001b[31m19.7 MB/s\u001b[0m eta \u001b[36m0:00:00\u001b[0m\n",
            "\u001b[?25hBuilding wheels for collected packages: pyspark\n",
            "  Building wheel for pyspark (setup.py) ... \u001b[?25l\u001b[?25hdone\n",
            "  Created wheel for pyspark: filename=pyspark-3.3.2-py2.py3-none-any.whl size=281824028 sha256=6a09274cb1620b879a9cedbd0b6a41abee0e9feb26475c98d2cd4212a55fa9f2\n",
            "  Stored in directory: /root/.cache/pip/wheels/6c/e3/9b/0525ce8a69478916513509d43693511463c6468db0de237c86\n",
            "Successfully built pyspark\n",
            "Installing collected packages: py4j, pyspark\n",
            "  Attempting uninstall: py4j\n",
            "    Found existing installation: py4j 0.10.9.7\n",
            "    Uninstalling py4j-0.10.9.7:\n",
            "      Successfully uninstalled py4j-0.10.9.7\n",
            "Successfully installed py4j-0.10.9.5 pyspark-3.3.2\n"
          ]
        }
      ],
      "source": [
        "!pip install pyspark"
      ]
    },
    {
      "cell_type": "code",
      "source": [
        "# Import SparkSession\n",
        "from pyspark.sql import SparkSession\n",
        "from pyspark.sql import functions\n",
        "# Create a Spark Session\n",
        "ss = SparkSession.builder.master(\"local[*]\").getOrCreate()"
      ],
      "metadata": {
        "id": "tyNSMVr8mx8h"
      },
      "execution_count": 3,
      "outputs": []
    },
    {
      "cell_type": "code",
      "source": [
        "edges = ss.read.csv(\"/content/drive/MyDrive/School/CSCI/Big-data/edges.tsv\", header=True, sep=\"\\t\")\n",
        "nodes = ss.read.csv(\"/content/drive/MyDrive/School/CSCI/Big-data/nodes.tsv\", header=True, sep=\"\\t\")"
      ],
      "metadata": {
        "id": "t7oQMB90nKj_"
      },
      "execution_count": 4,
      "outputs": []
    },
    {
      "cell_type": "code",
      "source": [
        "print(f\"Edges: {edges.count()}\")\n",
        "print(f\"Nodes: {nodes.count()}\")"
      ],
      "metadata": {
        "id": "-EFcXxjrnRn8",
        "colab": {
          "base_uri": "https://localhost:8080/"
        },
        "outputId": "dbfe61a4-8679-41ff-a781-86831280e178"
      },
      "execution_count": 5,
      "outputs": [
        {
          "output_type": "stream",
          "name": "stdout",
          "text": [
            "Edges: 1292203\n",
            "Nodes: 23036\n"
          ]
        }
      ]
    },
    {
      "cell_type": "code",
      "source": [
        "# 1. For each drug, compute the number of genes\n",
        "# and the number of diseases associated with the\n",
        "# drug. Output results with top 5 number of genes in a\n",
        "# descending order"
      ],
      "metadata": {
        "id": "DaFoKBf9nUx0"
      },
      "execution_count": 6,
      "outputs": []
    },
    {
      "cell_type": "code",
      "source": [
        "compounds = edges.filter(\n",
        "    edges.source.startswith('Compound') &\n",
        "    (\n",
        "        edges.target.startswith('Gene') \n",
        "        |\n",
        "        edges.target.startswith('Disease')\n",
        "    )\n",
        ")"
      ],
      "metadata": {
        "id": "onta_8fvneu1"
      },
      "execution_count": 7,
      "outputs": []
    },
    {
      "cell_type": "code",
      "source": [
        "compounds.sample(.01).show()"
      ],
      "metadata": {
        "colab": {
          "base_uri": "https://localhost:8080/"
        },
        "id": "TiSTUCzno-6P",
        "outputId": "d32a5220-c66f-4b27-9038-8aca0e1317b3"
      },
      "execution_count": 8,
      "outputs": [
        {
          "output_type": "stream",
          "name": "stdout",
          "text": [
            "+-----------------+--------+-------------------+\n",
            "|           source|metaedge|             target|\n",
            "+-----------------+--------+-------------------+\n",
            "|Compound::DB00773|     CtD| Disease::DOID:1192|\n",
            "|Compound::DB00860|     CtD| Disease::DOID:3083|\n",
            "|Compound::DB00445|     CtD| Disease::DOID:1781|\n",
            "|Compound::DB00359|     CtD|Disease::DOID:12365|\n",
            "|Compound::DB05294|     CtD| Disease::DOID:1781|\n",
            "|Compound::DB00620|     CtD| Disease::DOID:9008|\n",
            "|Compound::DB00457|     CtD|Disease::DOID:10763|\n",
            "|Compound::DB00514|     CbG|         Gene::1136|\n",
            "|Compound::DB00619|     CbG|          Gene::759|\n",
            "|Compound::DB00549|     CbG|         Gene::1557|\n",
            "|Compound::DB01229|     CbG|          Gene::596|\n",
            "|Compound::DB01567|     CbG|         Gene::2564|\n",
            "|Compound::DB00444|     CbG|          Gene::368|\n",
            "|Compound::DB01142|     CbG|         Gene::3362|\n",
            "|Compound::DB00694|     CbG|         Gene::9429|\n",
            "|Compound::DB00972|     CbG|         Gene::1543|\n",
            "|Compound::DB00571|     CbG|          Gene::155|\n",
            "|Compound::DB00801|     CbG|         Gene::2567|\n",
            "|Compound::DB00508|     CbG|         Gene::5243|\n",
            "|Compound::DB00679|     CbG|         Gene::1812|\n",
            "+-----------------+--------+-------------------+\n",
            "only showing top 20 rows\n",
            "\n"
          ]
        }
      ]
    },
    {
      "cell_type": "code",
      "source": [
        "c3 = compounds.withColumn(\"target_type\", functions.split(compounds.target, '::').getItem(0))\n",
        "c4 = c3.drop('metaedge', 'target')\n",
        "c4.show()"
      ],
      "metadata": {
        "id": "EZ5AnZUNMmuT",
        "outputId": "7f17f6c9-9b28-4a7b-8f2e-f31304e56e25",
        "colab": {
          "base_uri": "https://localhost:8080/"
        }
      },
      "execution_count": 9,
      "outputs": [
        {
          "output_type": "stream",
          "name": "stdout",
          "text": [
            "+-----------------+-----------+\n",
            "|           source|target_type|\n",
            "+-----------------+-----------+\n",
            "|Compound::DB00997|    Disease|\n",
            "|Compound::DB00206|    Disease|\n",
            "|Compound::DB00960|    Disease|\n",
            "|Compound::DB00665|    Disease|\n",
            "|Compound::DB00290|    Disease|\n",
            "|Compound::DB01232|    Disease|\n",
            "|Compound::DB00555|    Disease|\n",
            "|Compound::DB00444|    Disease|\n",
            "|Compound::DB00860|    Disease|\n",
            "|Compound::DB00635|    Disease|\n",
            "|Compound::DB00985|    Disease|\n",
            "|Compound::DB00808|    Disease|\n",
            "|Compound::DB01244|    Disease|\n",
            "|Compound::DB00888|    Disease|\n",
            "|Compound::DB00591|    Disease|\n",
            "|Compound::DB00530|    Disease|\n",
            "|Compound::DB00191|    Disease|\n",
            "|Compound::DB00620|    Disease|\n",
            "|Compound::DB00853|    Disease|\n",
            "|Compound::DB00654|    Disease|\n",
            "+-----------------+-----------+\n",
            "only showing top 20 rows\n",
            "\n"
          ]
        }
      ]
    },
    {
      "cell_type": "code",
      "source": [
        "grouped_compounds = c4.groupBy('source','target_type').count()\n",
        "grouped_compounds.take(5)"
      ],
      "metadata": {
        "id": "o9sGypXlND7y",
        "outputId": "98cfecbc-336b-4dca-bd89-88612b31166f",
        "colab": {
          "base_uri": "https://localhost:8080/"
        }
      },
      "execution_count": 19,
      "outputs": [
        {
          "output_type": "execute_result",
          "data": {
            "text/plain": [
              "[Row(source='Compound::DB01229', target_type='Disease', count=4),\n",
              " Row(source='Compound::DB01254', target_type='Disease', count=1),\n",
              " Row(source='Compound::DB01014', target_type='Gene', count=35),\n",
              " Row(source='Compound::DB00246', target_type='Gene', count=35),\n",
              " Row(source='Compound::DB08810', target_type='Gene', count=3)]"
            ]
          },
          "metadata": {},
          "execution_count": 19
        }
      ]
    },
    {
      "cell_type": "code",
      "source": [
        "#filtered_compounds = compounds.rdd.map(lambda x: ((x.source,\"G\"), 1) if x.target.startswith(\"Gene\") else ((x.source, \"D\"), 1))\n",
        "#filtered_compounds.take(10)\n",
        "#compounds.rdd.map(lambda x: x.source,\"G\" if x.target.startswith(\"Gene\") else x.source, \"D\")\n",
        "#c = compounds.rdd.map(lambda x: (x.source,\"G\") if x.target.startswith(\"Gene\") else (x.source, \"D\"))\n",
        "grouped_compounds.sort('count','source', ascending=False).take(5)"
      ],
      "metadata": {
        "colab": {
          "base_uri": "https://localhost:8080/"
        },
        "id": "hVZV9OcNpTGo",
        "outputId": "d6f1031e-8c3a-4611-e4ad-c7203eae97e6"
      },
      "execution_count": 20,
      "outputs": [
        {
          "output_type": "execute_result",
          "data": {
            "text/plain": [
              "[Row(source='Compound::DB08865', target_type='Gene', count=585),\n",
              " Row(source='Compound::DB01254', target_type='Gene', count=564),\n",
              " Row(source='Compound::DB00997', target_type='Gene', count=532),\n",
              " Row(source='Compound::DB00570', target_type='Gene', count=523),\n",
              " Row(source='Compound::DB00390', target_type='Gene', count=522)]"
            ]
          },
          "metadata": {},
          "execution_count": 20
        }
      ]
    },
    {
      "cell_type": "code",
      "source": [
        "filtered_compound_counts = filtered_compounds.reduceByKey(lambda a,b:a + b)\n",
        "filtered_compound_counts.take(5)"
      ],
      "metadata": {
        "colab": {
          "base_uri": "https://localhost:8080/"
        },
        "id": "Iu4iaTgxo9Yk",
        "outputId": "95dc52cf-3188-4a79-ca71-f7fc00fcfce3"
      },
      "execution_count": 55,
      "outputs": [
        {
          "output_type": "execute_result",
          "data": {
            "text/plain": [
              "[(('Compound::DB00960', 'D'), 1),\n",
              " (('Compound::DB00665', 'D'), 1),\n",
              " (('Compound::DB01232', 'D'), 1),\n",
              " (('Compound::DB00555', 'D'), 3),\n",
              " (('Compound::DB00635', 'D'), 17)]"
            ]
          },
          "metadata": {},
          "execution_count": 55
        }
      ]
    },
    {
      "cell_type": "code",
      "source": [
        "sorted_count = filtered_compound_counts.sortBy(lambda x: x[1], ascending=False)\n",
        "sorted_count.take(5)"
      ],
      "metadata": {
        "id": "MGzSAAI9pyM5",
        "colab": {
          "base_uri": "https://localhost:8080/"
        },
        "outputId": "bbd01212-8671-4bc9-94cf-30f1ea6f07c7"
      },
      "execution_count": 59,
      "outputs": [
        {
          "output_type": "execute_result",
          "data": {
            "text/plain": [
              "[(('Compound::DB08865', 'G'), 585),\n",
              " (('Compound::DB01254', 'G'), 564),\n",
              " (('Compound::DB00997', 'G'), 532),\n",
              " (('Compound::DB00570', 'G'), 523),\n",
              " (('Compound::DB00390', 'G'), 522)]"
            ]
          },
          "metadata": {},
          "execution_count": 59
        }
      ]
    },
    {
      "cell_type": "code",
      "source": [
        "# Q2: Compute the number of diseases associated\n",
        "# with 1, 2, 3, …, n drugs. Output results with the top\n",
        "# 5 number of diseases in a descending order.\n",
        "disease_compounds = edges.filter(\n",
        "    edges.source.startswith('Compound') &\n",
        "    (\n",
        "        edges.target.startswith('Disease')\n",
        "    )\n",
        "\n",
        ")"
      ],
      "metadata": {
        "id": "AXSFB6PAB3Yi"
      },
      "execution_count": null,
      "outputs": []
    },
    {
      "cell_type": "code",
      "source": [
        "filtered_disease_compounds = disease_compounds.rdd.map(lambda x: (x.target,1))\n",
        "filtered_disease_compounds.take(5)\n",
        "filtered_disease_compound_counts = filtered_disease_compounds.reduceByKey(lambda a,b:a + b)\n",
        "sorted_disease_count = filtered_disease_compound_counts.sortBy(lambda x: x[1], ascending=False)\n",
        "sorted_disease_count.take(5)"
      ],
      "metadata": {
        "colab": {
          "base_uri": "https://localhost:8080/"
        },
        "id": "coD5GCCIB-Bd",
        "outputId": "4c52a67f-1a1e-4504-d91e-63402373ac2f"
      },
      "execution_count": null,
      "outputs": [
        {
          "output_type": "execute_result",
          "data": {
            "text/plain": [
              "[('Disease::DOID:10763', 70),\n",
              " ('Disease::DOID:2531', 53),\n",
              " ('Disease::DOID:1612', 43),\n",
              " ('Disease::DOID:2841', 40),\n",
              " ('Disease::DOID:3393', 38)]"
            ]
          },
          "metadata": {},
          "execution_count": 13
        }
      ]
    },
    {
      "cell_type": "code",
      "source": [
        "# Q3: Get the name of drugs that have the top 5 number of genes. Output the results."
      ],
      "metadata": {
        "id": "A7-U3PMNCBwA"
      },
      "execution_count": null,
      "outputs": []
    }
  ]
}