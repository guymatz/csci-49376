{
  "nbformat": 4,
  "nbformat_minor": 0,
  "metadata": {
    "colab": {
      "provenance": [],
      "include_colab_link": true
    },
    "kernelspec": {
      "name": "python3",
      "display_name": "Python 3"
    },
    "language_info": {
      "name": "python"
    }
  },
  "cells": [
    {
      "cell_type": "markdown",
      "metadata": {
        "id": "view-in-github",
        "colab_type": "text"
      },
      "source": [
        "<a href=\"https://colab.research.google.com/github/guymatz/csci-49376/blob/develop/csci_49376_project_2.ipynb\" target=\"_parent\"><img src=\"https://colab.research.google.com/assets/colab-badge.svg\" alt=\"Open In Colab\"/></a>"
      ]
    },
    {
      "cell_type": "code",
      "source": [
        "from google.colab import drive\n",
        "drive.mount('/content/drive')\n",
        "#drive.flush_and_unmount()"
      ],
      "metadata": {
        "id": "8CjGO5KZihVF",
        "colab": {
          "base_uri": "https://localhost:8080/"
        },
        "outputId": "ddd0742b-8822-44bc-b404-22ee03b9857e"
      },
      "execution_count": null,
      "outputs": [
        {
          "output_type": "stream",
          "name": "stdout",
          "text": [
            "Mounted at /content/drive\n"
          ]
        }
      ]
    },
    {
      "cell_type": "code",
      "execution_count": null,
      "metadata": {
        "id": "k9fFnE51muoC"
      },
      "outputs": [],
      "source": [
        "!pip install pyspark"
      ]
    },
    {
      "cell_type": "code",
      "source": [
        "# Import SparkSession\n",
        "from pyspark.sql import SparkSession\n",
        "from pyspark.sql import functions\n",
        "# Create a Spark Session\n",
        "ss = SparkSession.builder.master(\"local[*]\").getOrCreate()"
      ],
      "metadata": {
        "id": "tyNSMVr8mx8h"
      },
      "execution_count": null,
      "outputs": []
    },
    {
      "cell_type": "code",
      "source": [
        "edges = ss.read.csv(\"/content/drive/MyDrive/School/CSCI/Big-data/edges.tsv\", header=True, sep=\"\\t\")\n",
        "nodes = ss.read.csv(\"/content/drive/MyDrive/School/CSCI/Big-data/nodes.tsv\", header=True, sep=\"\\t\")"
      ],
      "metadata": {
        "id": "t7oQMB90nKj_"
      },
      "execution_count": null,
      "outputs": []
    },
    {
      "cell_type": "code",
      "source": [
        "print(f\"Edges: {edges.count()}\")\n",
        "print(f\"Nodes: {nodes.count()}\")"
      ],
      "metadata": {
        "id": "-EFcXxjrnRn8",
        "colab": {
          "base_uri": "https://localhost:8080/"
        },
        "outputId": "0d302c45-dd4a-4755-a01f-8d76beb5a095"
      },
      "execution_count": null,
      "outputs": [
        {
          "output_type": "stream",
          "name": "stdout",
          "text": [
            "Edges: 1292203\n",
            "Nodes: 23036\n"
          ]
        }
      ]
    },
    {
      "cell_type": "code",
      "source": [
        "# For each drug, compute the number of genes\n",
        "# and the number of diseases associated with the\n",
        "# drug. Output results with top 5 number of genes in a\n",
        "# descending order"
      ],
      "metadata": {
        "id": "DaFoKBf9nUx0"
      },
      "execution_count": null,
      "outputs": []
    },
    {
      "cell_type": "code",
      "source": [
        "compounds = edges.filter(\n",
        "    edges.source.startswith('Compound') &\n",
        "    (\n",
        "        edges.target.startswith('Gene') \n",
        "        |\n",
        "        edges.target.startswith('Disease')\n",
        "    )\n",
        ")"
      ],
      "metadata": {
        "id": "onta_8fvneu1"
      },
      "execution_count": null,
      "outputs": []
    },
    {
      "cell_type": "code",
      "source": [
        "compounds.sample(.01).show()"
      ],
      "metadata": {
        "colab": {
          "base_uri": "https://localhost:8080/"
        },
        "id": "TiSTUCzno-6P",
        "outputId": "f858e304-8730-4def-a3dd-1b633bbd7d22"
      },
      "execution_count": 40,
      "outputs": [
        {
          "output_type": "stream",
          "name": "stdout",
          "text": [
            "+-----------------+--------+-------------------+\n",
            "|           source|metaedge|             target|\n",
            "+-----------------+--------+-------------------+\n",
            "|Compound::DB00398|     CtD| Disease::DOID:1781|\n",
            "|Compound::DB00331|     CtD|Disease::DOID:14221|\n",
            "|Compound::DB01024|     CtD|  Disease::DOID:418|\n",
            "|Compound::DB01006|     CtD| Disease::DOID:1612|\n",
            "|Compound::DB01042|     CtD| Disease::DOID:1612|\n",
            "|Compound::DB00915|     CbG|         Gene::6582|\n",
            "|Compound::DB00307|     CbG|         Gene::6258|\n",
            "|Compound::DB00281|     CbG|         Gene::1544|\n",
            "|Compound::DB00590|     CbG|          Gene::146|\n",
            "|Compound::DB01221|     CbG|         Gene::6869|\n",
            "|Compound::DB01239|     CbG|         Gene::1813|\n",
            "|Compound::DB00731|     CbG|         Gene::6833|\n",
            "|Compound::DB00818|     CbG|        Gene::54576|\n",
            "|Compound::DB01156|     CbG|         Gene::1548|\n",
            "|Compound::DB00511|     CbG|          Gene::477|\n",
            "|Compound::DB00174|     CbG|        Gene::80150|\n",
            "|Compound::DB01029|     CbG|         Gene::5742|\n",
            "|Compound::DB01587|     CbG|         Gene::2565|\n",
            "|Compound::DB00170|     CbG|       Gene::154807|\n",
            "|Compound::DB00594|     CbG|           Gene::26|\n",
            "+-----------------+--------+-------------------+\n",
            "only showing top 20 rows\n",
            "\n"
          ]
        }
      ]
    },
    {
      "cell_type": "code",
      "source": [
        "c3 = c2.drop('metaedge', 'target')\n",
        "c3.show()"
      ],
      "metadata": {
        "colab": {
          "base_uri": "https://localhost:8080/"
        },
        "id": "ndtB6sbtwMyE",
        "outputId": "a9b8191b-b24e-40bf-baa2-4a21a988c65c"
      },
      "execution_count": 38,
      "outputs": [
        {
          "output_type": "stream",
          "name": "stdout",
          "text": [
            "+-----------------+-----------+\n",
            "|           source|target_type|\n",
            "+-----------------+-----------+\n",
            "|Compound::DB00997|    Disease|\n",
            "|Compound::DB00206|    Disease|\n",
            "|Compound::DB00960|    Disease|\n",
            "|Compound::DB00665|    Disease|\n",
            "|Compound::DB00290|    Disease|\n",
            "|Compound::DB01232|    Disease|\n",
            "|Compound::DB00555|    Disease|\n",
            "|Compound::DB00444|    Disease|\n",
            "|Compound::DB00860|    Disease|\n",
            "|Compound::DB00635|    Disease|\n",
            "|Compound::DB00985|    Disease|\n",
            "|Compound::DB00808|    Disease|\n",
            "|Compound::DB01244|    Disease|\n",
            "|Compound::DB00888|    Disease|\n",
            "|Compound::DB00591|    Disease|\n",
            "|Compound::DB00530|    Disease|\n",
            "|Compound::DB00191|    Disease|\n",
            "|Compound::DB00620|    Disease|\n",
            "|Compound::DB00853|    Disease|\n",
            "|Compound::DB00654|    Disease|\n",
            "+-----------------+-----------+\n",
            "only showing top 20 rows\n",
            "\n"
          ]
        }
      ]
    },
    {
      "cell_type": "code",
      "source": [
        "filtered_compounds = compounds.rdd.map(lambda x: ((x.source,\"G\"), 1) if x.target.startswith(\"Gene\") else ((x.source, \"D\"), 1))\n",
        "filtered_compounds.take(10)"
      ],
      "metadata": {
        "colab": {
          "base_uri": "https://localhost:8080/"
        },
        "id": "hVZV9OcNpTGo",
        "outputId": "14f41057-fd49-422e-a16b-47161692982b"
      },
      "execution_count": 60,
      "outputs": [
        {
          "output_type": "execute_result",
          "data": {
            "text/plain": [
              "[(('Compound::DB00997', 'D'), 1),\n",
              " (('Compound::DB00206', 'D'), 1),\n",
              " (('Compound::DB00960', 'D'), 1),\n",
              " (('Compound::DB00665', 'D'), 1),\n",
              " (('Compound::DB00290', 'D'), 1),\n",
              " (('Compound::DB01232', 'D'), 1),\n",
              " (('Compound::DB00555', 'D'), 1),\n",
              " (('Compound::DB00444', 'D'), 1),\n",
              " (('Compound::DB00860', 'D'), 1),\n",
              " (('Compound::DB00635', 'D'), 1)]"
            ]
          },
          "metadata": {},
          "execution_count": 60
        }
      ]
    },
    {
      "cell_type": "code",
      "source": [
        "filtered_compound_counts = filtered_compounds.reduceByKey(lambda a,b:a + b)\n",
        "#print(type(filtered_compound_counts))\n",
        "filtered_compound_counts.take(5)\n"
      ],
      "metadata": {
        "colab": {
          "base_uri": "https://localhost:8080/"
        },
        "id": "Iu4iaTgxo9Yk",
        "outputId": "c8ed7a96-8e15-43e1-9fc9-932b735e29fd"
      },
      "execution_count": 61,
      "outputs": [
        {
          "output_type": "execute_result",
          "data": {
            "text/plain": [
              "[(('Compound::DB00960', 'D'), 1),\n",
              " (('Compound::DB00665', 'D'), 1),\n",
              " (('Compound::DB01232', 'D'), 1),\n",
              " (('Compound::DB00555', 'D'), 3),\n",
              " (('Compound::DB00635', 'D'), 17)]"
            ]
          },
          "metadata": {},
          "execution_count": 61
        }
      ]
    },
    {
      "cell_type": "code",
      "source": [
        "sorted_count = filtered_compound_counts.sortBy(lambda x: x[1], ascending=False)\n",
        "sorted_count.take(5)"
      ],
      "metadata": {
        "id": "MGzSAAI9pyM5",
        "colab": {
          "base_uri": "https://localhost:8080/"
        },
        "outputId": "17043464-e715-4c71-deb7-93dacacfa025"
      },
      "execution_count": 65,
      "outputs": [
        {
          "output_type": "execute_result",
          "data": {
            "text/plain": [
              "[(('Compound::DB08865', 'G'), 585),\n",
              " (('Compound::DB01254', 'G'), 564),\n",
              " (('Compound::DB00997', 'G'), 532),\n",
              " (('Compound::DB00570', 'G'), 523),\n",
              " (('Compound::DB00390', 'G'), 522)]"
            ]
          },
          "metadata": {},
          "execution_count": 65
        }
      ]
    },
    {
      "cell_type": "code",
      "source": [
        "# Q2: Compute the number of diseases associated\n",
        "# with 1, 2, 3, …, n drugs. Output results with the top\n",
        "# 5 number of diseases in a descending order.\n",
        "disease_compounds = edges.filter(\n",
        "    edges.source.startswith('Compound') &\n",
        "    (\n",
        "        edges.target.startswith('Disease')\n",
        "    )\n",
        "\n",
        ")"
      ],
      "metadata": {
        "id": "AXSFB6PAB3Yi"
      },
      "execution_count": null,
      "outputs": []
    },
    {
      "cell_type": "code",
      "source": [
        "filtered_disease_compounds = disease_compounds.rdd.map(lambda x: (x.target,1))\n",
        "filtered_disease_compounds.take(5)\n",
        "filtered_disease_compound_counts = filtered_disease_compounds.reduceByKey(lambda a,b:a + b)\n",
        "sorted_disease_count = filtered_disease_compound_counts.sortBy(lambda x: x[1], ascending=False)\n",
        "sorted_disease_count.take(5)"
      ],
      "metadata": {
        "colab": {
          "base_uri": "https://localhost:8080/"
        },
        "id": "coD5GCCIB-Bd",
        "outputId": "4c52a67f-1a1e-4504-d91e-63402373ac2f"
      },
      "execution_count": null,
      "outputs": [
        {
          "output_type": "execute_result",
          "data": {
            "text/plain": [
              "[('Disease::DOID:10763', 70),\n",
              " ('Disease::DOID:2531', 53),\n",
              " ('Disease::DOID:1612', 43),\n",
              " ('Disease::DOID:2841', 40),\n",
              " ('Disease::DOID:3393', 38)]"
            ]
          },
          "metadata": {},
          "execution_count": 13
        }
      ]
    },
    {
      "cell_type": "code",
      "source": [
        "# Q3: Get the name of drugs that have the top 5 number of genes. Output the results."
      ],
      "metadata": {
        "id": "A7-U3PMNCBwA"
      },
      "execution_count": null,
      "outputs": []
    },
    {
      "cell_type": "code",
      "source": [],
      "metadata": {
        "id": "VIOo-iOiCFpQ"
      },
      "execution_count": null,
      "outputs": []
    }
  ]
}