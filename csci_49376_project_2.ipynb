{
  "nbformat": 4,
  "nbformat_minor": 0,
  "metadata": {
    "colab": {
      "provenance": [],
      "include_colab_link": true
    },
    "kernelspec": {
      "name": "python3",
      "display_name": "Python 3"
    },
    "language_info": {
      "name": "python"
    }
  },
  "cells": [
    {
      "cell_type": "markdown",
      "metadata": {
        "id": "view-in-github",
        "colab_type": "text"
      },
      "source": [
        "<a href=\"https://colab.research.google.com/github/guymatz/csci-49376/blob/develop/csci_49376_project_2.ipynb\" target=\"_parent\"><img src=\"https://colab.research.google.com/assets/colab-badge.svg\" alt=\"Open In Colab\"/></a>"
      ]
    },
    {
      "cell_type": "code",
      "source": [
        "from google.colab import drive\n",
        "drive.mount('/content/drive')\n",
        "#drive.flush_and_unmount()"
      ],
      "metadata": {
        "id": "8CjGO5KZihVF",
        "colab": {
          "base_uri": "https://localhost:8080/"
        },
        "outputId": "93ed552e-7c16-406d-9415-29c6bb3fd5a5"
      },
      "execution_count": 1,
      "outputs": [
        {
          "output_type": "stream",
          "name": "stdout",
          "text": [
            "Mounted at /content/drive\n"
          ]
        }
      ]
    },
    {
      "cell_type": "code",
      "execution_count": null,
      "metadata": {
        "id": "k9fFnE51muoC"
      },
      "outputs": [],
      "source": [
        "!pip install pyspark"
      ]
    },
    {
      "cell_type": "code",
      "source": [
        "# Import SparkSession\n",
        "from pyspark.sql import SparkSession\n",
        "from pyspark.sql import functions\n",
        "# Create a Spark Session\n",
        "ss = SparkSession.builder.master(\"local[*]\").getOrCreate()"
      ],
      "metadata": {
        "id": "tyNSMVr8mx8h"
      },
      "execution_count": 3,
      "outputs": []
    },
    {
      "cell_type": "code",
      "source": [
        "edges = ss.read.csv(\"/content/drive/MyDrive/School/CSCI/Big-data/edges.tsv\", header=True, sep=\"\\t\")\n",
        "nodes = ss.read.csv(\"/content/drive/MyDrive/School/CSCI/Big-data/nodes.tsv\", header=True, sep=\"\\t\")"
      ],
      "metadata": {
        "id": "t7oQMB90nKj_"
      },
      "execution_count": 4,
      "outputs": []
    },
    {
      "cell_type": "code",
      "source": [
        "print(f\"Edges: {edges.count()}\")\n",
        "print(f\"Nodes: {nodes.count()}\")"
      ],
      "metadata": {
        "id": "-EFcXxjrnRn8",
        "colab": {
          "base_uri": "https://localhost:8080/"
        },
        "outputId": "dbfe61a4-8679-41ff-a781-86831280e178"
      },
      "execution_count": 5,
      "outputs": [
        {
          "output_type": "stream",
          "name": "stdout",
          "text": [
            "Edges: 1292203\n",
            "Nodes: 23036\n"
          ]
        }
      ]
    },
    {
      "cell_type": "code",
      "source": [
        "# 1. For each drug, compute the number of genes\n",
        "# and the number of diseases associated with the\n",
        "# drug. Output results with top 5 number of genes in a\n",
        "# descending order"
      ],
      "metadata": {
        "id": "DaFoKBf9nUx0"
      },
      "execution_count": 6,
      "outputs": []
    },
    {
      "cell_type": "code",
      "source": [
        "compounds = edges.filter(\n",
        "    edges.source.startswith('Compound') &\n",
        "    (\n",
        "        edges.target.startswith('Gene') \n",
        "        |\n",
        "        edges.target.startswith('Disease')\n",
        "    )\n",
        ")"
      ],
      "metadata": {
        "id": "onta_8fvneu1"
      },
      "execution_count": 7,
      "outputs": []
    },
    {
      "cell_type": "code",
      "source": [
        "compounds.sample(.01).show(10)"
      ],
      "metadata": {
        "colab": {
          "base_uri": "https://localhost:8080/"
        },
        "id": "TiSTUCzno-6P",
        "outputId": "593ed875-1d33-49f3-ceeb-ef6387bc0e3e"
      },
      "execution_count": 55,
      "outputs": [
        {
          "output_type": "stream",
          "name": "stdout",
          "text": [
            "+-----------------+--------+-------------------+\n",
            "|           source|metaedge|             target|\n",
            "+-----------------+--------+-------------------+\n",
            "|Compound::DB00783|     CtD|Disease::DOID:10283|\n",
            "|Compound::DB00222|     CtD| Disease::DOID:9352|\n",
            "|Compound::DB00860|     CtD| Disease::DOID:2531|\n",
            "|Compound::DB00394|     CtD| Disease::DOID:8893|\n",
            "|Compound::DB01005|     CtD| Disease::DOID:2531|\n",
            "|Compound::DB01234|     CtD| Disease::DOID:7148|\n",
            "|Compound::DB00230|     CtD| Disease::DOID:1826|\n",
            "|Compound::DB00635|     CtD| Disease::DOID:9008|\n",
            "|Compound::DB01186|     CbG|          Gene::148|\n",
            "|Compound::DB00839|     CbG|         Gene::3767|\n",
            "+-----------------+--------+-------------------+\n",
            "only showing top 10 rows\n",
            "\n"
          ]
        }
      ]
    },
    {
      "cell_type": "code",
      "source": [
        "c3 = compounds.withColumn(\"target_type\", functions.split(compounds.target, '::').getItem(0))\n",
        "c4 = c3.drop('metaedge', 'target')\n",
        "c4.sort('source').show(5)"
      ],
      "metadata": {
        "colab": {
          "base_uri": "https://localhost:8080/"
        },
        "id": "EZ5AnZUNMmuT",
        "outputId": "19f78761-f6d4-448b-f741-17cd62522000"
      },
      "execution_count": 69,
      "outputs": [
        {
          "output_type": "stream",
          "name": "stdout",
          "text": [
            "+-----------------+-----------+\n",
            "|           source|target_type|\n",
            "+-----------------+-----------+\n",
            "|Compound::DB00014|    Disease|\n",
            "|Compound::DB00014|    Disease|\n",
            "|Compound::DB00014|       Gene|\n",
            "|Compound::DB00014|       Gene|\n",
            "|Compound::DB00014|       Gene|\n",
            "+-----------------+-----------+\n",
            "only showing top 5 rows\n",
            "\n"
          ]
        }
      ]
    },
    {
      "cell_type": "code",
      "source": [
        "c4.groupBy('source','target_type').count().sort('count', 'source', ascending=False).show()"
      ],
      "metadata": {
        "colab": {
          "base_uri": "https://localhost:8080/"
        },
        "id": "o9sGypXlND7y",
        "outputId": "0087f516-151c-40d0-f7fe-52554276facb"
      },
      "execution_count": 70,
      "outputs": [
        {
          "output_type": "stream",
          "name": "stdout",
          "text": [
            "+-----------------+-----------+-----+\n",
            "|           source|target_type|count|\n",
            "+-----------------+-----------+-----+\n",
            "|Compound::DB08865|       Gene|  585|\n",
            "|Compound::DB01254|       Gene|  564|\n",
            "|Compound::DB00997|       Gene|  532|\n",
            "|Compound::DB00570|       Gene|  523|\n",
            "|Compound::DB00390|       Gene|  522|\n",
            "|Compound::DB00170|       Gene|  521|\n",
            "|Compound::DB00694|       Gene|  519|\n",
            "|Compound::DB00679|       Gene|  519|\n",
            "|Compound::DB00188|       Gene|  517|\n",
            "|Compound::DB00441|       Gene|  515|\n",
            "|Compound::DB08912|       Gene|  514|\n",
            "|Compound::DB00091|       Gene|  513|\n",
            "|Compound::DB01204|       Gene|  511|\n",
            "|Compound::DB00877|       Gene|  511|\n",
            "|Compound::DB02546|       Gene|  510|\n",
            "|Compound::DB01092|       Gene|  509|\n",
            "|Compound::DB00444|       Gene|  509|\n",
            "|Compound::DB01103|       Gene|  508|\n",
            "|Compound::DB00445|       Gene|  508|\n",
            "|Compound::DB01396|       Gene|  507|\n",
            "+-----------------+-----------+-----+\n",
            "only showing top 20 rows\n",
            "\n"
          ]
        }
      ]
    },
    {
      "cell_type": "code",
      "source": [
        "# Q2: Compute the number of diseases associated\n",
        "# with 1, 2, 3, …, n drugs. Output results with the top\n",
        "# 5 number of diseases in a descending order.\n",
        "disease_compounds = edges.filter(\n",
        "    edges.source.startswith('Compound') &\n",
        "    (\n",
        "        edges.target.startswith('Disease')\n",
        "    )\n",
        "\n",
        ")"
      ],
      "metadata": {
        "id": "AXSFB6PAB3Yi"
      },
      "execution_count": null,
      "outputs": []
    },
    {
      "cell_type": "code",
      "source": [
        "filtered_disease_compounds = disease_compounds.rdd.map(lambda x: (x.target,1))\n",
        "filtered_disease_compounds.take(5)\n",
        "filtered_disease_compound_counts = filtered_disease_compounds.reduceByKey(lambda a,b:a + b)\n",
        "sorted_disease_count = filtered_disease_compound_counts.sortBy(lambda x: x[1], ascending=False)\n",
        "sorted_disease_count.take(5)"
      ],
      "metadata": {
        "colab": {
          "base_uri": "https://localhost:8080/"
        },
        "id": "coD5GCCIB-Bd",
        "outputId": "4c52a67f-1a1e-4504-d91e-63402373ac2f"
      },
      "execution_count": null,
      "outputs": [
        {
          "output_type": "execute_result",
          "data": {
            "text/plain": [
              "[('Disease::DOID:10763', 70),\n",
              " ('Disease::DOID:2531', 53),\n",
              " ('Disease::DOID:1612', 43),\n",
              " ('Disease::DOID:2841', 40),\n",
              " ('Disease::DOID:3393', 38)]"
            ]
          },
          "metadata": {},
          "execution_count": 13
        }
      ]
    },
    {
      "cell_type": "code",
      "source": [
        "# Q3: Get the name of drugs that have the top 5 number of genes. Output the results."
      ],
      "metadata": {
        "id": "A7-U3PMNCBwA"
      },
      "execution_count": null,
      "outputs": []
    }
  ]
}