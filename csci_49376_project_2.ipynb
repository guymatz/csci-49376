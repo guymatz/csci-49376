{
  "nbformat": 4,
  "nbformat_minor": 0,
  "metadata": {
    "colab": {
      "provenance": [],
      "include_colab_link": true
    },
    "kernelspec": {
      "name": "python3",
      "display_name": "Python 3"
    },
    "language_info": {
      "name": "python"
    }
  },
  "cells": [
    {
      "cell_type": "markdown",
      "metadata": {
        "id": "view-in-github",
        "colab_type": "text"
      },
      "source": [
        "<a href=\"https://colab.research.google.com/github/guymatz/csci-49376/blob/develop/csci_49376_project_2.ipynb\" target=\"_parent\"><img src=\"https://colab.research.google.com/assets/colab-badge.svg\" alt=\"Open In Colab\"/></a>"
      ]
    },
    {
      "cell_type": "code",
      "source": [
        "from google.colab import drive\n",
        "drive.mount('/content/drive')\n",
        "#drive.flush_and_unmount()"
      ],
      "metadata": {
        "id": "8CjGO5KZihVF",
        "outputId": "989c333f-c5f4-4dbf-fedf-6a2baf9dad72",
        "colab": {
          "base_uri": "https://localhost:8080/"
        }
      },
      "execution_count": 1,
      "outputs": [
        {
          "output_type": "stream",
          "name": "stdout",
          "text": [
            "Mounted at /content/drive\n"
          ]
        }
      ]
    },
    {
      "cell_type": "code",
      "execution_count": 2,
      "metadata": {
        "id": "k9fFnE51muoC",
        "outputId": "71968c06-96b1-47b2-cc78-02957be894b2",
        "colab": {
          "base_uri": "https://localhost:8080/"
        }
      },
      "outputs": [
        {
          "output_type": "stream",
          "name": "stdout",
          "text": [
            "Looking in indexes: https://pypi.org/simple, https://us-python.pkg.dev/colab-wheels/public/simple/\n",
            "Collecting pyspark\n",
            "  Downloading pyspark-3.3.2.tar.gz (281.4 MB)\n",
            "\u001b[2K     \u001b[90m━━━━━━━━━━━━━━━━━━━━━━━━━━━━━━━━━━━━━━━\u001b[0m \u001b[32m281.4/281.4 MB\u001b[0m \u001b[31m5.2 MB/s\u001b[0m eta \u001b[36m0:00:00\u001b[0m\n",
            "\u001b[?25h  Preparing metadata (setup.py) ... \u001b[?25l\u001b[?25hdone\n",
            "Collecting py4j==0.10.9.5\n",
            "  Downloading py4j-0.10.9.5-py2.py3-none-any.whl (199 kB)\n",
            "\u001b[2K     \u001b[90m━━━━━━━━━━━━━━━━━━━━━━━━━━━━━━━━━━━━━━\u001b[0m \u001b[32m199.7/199.7 kB\u001b[0m \u001b[31m23.9 MB/s\u001b[0m eta \u001b[36m0:00:00\u001b[0m\n",
            "\u001b[?25hBuilding wheels for collected packages: pyspark\n",
            "  Building wheel for pyspark (setup.py) ... \u001b[?25l\u001b[?25hdone\n",
            "  Created wheel for pyspark: filename=pyspark-3.3.2-py2.py3-none-any.whl size=281824028 sha256=dcf1c97352892256d579c803c1b46f884411f897dac79bbef3813e53f8e2f359\n",
            "  Stored in directory: /root/.cache/pip/wheels/6c/e3/9b/0525ce8a69478916513509d43693511463c6468db0de237c86\n",
            "Successfully built pyspark\n",
            "Installing collected packages: py4j, pyspark\n",
            "  Attempting uninstall: py4j\n",
            "    Found existing installation: py4j 0.10.9.7\n",
            "    Uninstalling py4j-0.10.9.7:\n",
            "      Successfully uninstalled py4j-0.10.9.7\n",
            "Successfully installed py4j-0.10.9.5 pyspark-3.3.2\n"
          ]
        }
      ],
      "source": [
        "!pip install pyspark"
      ]
    },
    {
      "cell_type": "code",
      "source": [
        "# Import SparkSession\n",
        "from pyspark.sql import SparkSession\n",
        "from pyspark.sql import functions\n",
        "# Create a Spark Session\n",
        "ss = SparkSession.builder.master(\"local[*]\").getOrCreate()"
      ],
      "metadata": {
        "id": "tyNSMVr8mx8h"
      },
      "execution_count": 3,
      "outputs": []
    },
    {
      "cell_type": "code",
      "source": [
        "edges = ss.read.csv(\"/content/drive/MyDrive/School/CSCI/Big-data/edges.tsv\", header=True, sep=\"\\t\")\n",
        "#edges = ss.read.csv(\"/content/drive/MyDrive/School/CSCI/Big-data/edges-test.tsv\", header=True, sep=\"\\t\")\n",
        "nodes = ss.read.csv(\"/content/drive/MyDrive/School/CSCI/Big-data/nodes.tsv\", header=True, sep=\"\\t\")"
      ],
      "metadata": {
        "id": "t7oQMB90nKj_"
      },
      "execution_count": 36,
      "outputs": []
    },
    {
      "cell_type": "code",
      "source": [
        "print(f\"Edges: {edges.count()}\")\n",
        "print(f\"Nodes: {nodes.count()}\")"
      ],
      "metadata": {
        "id": "-EFcXxjrnRn8",
        "colab": {
          "base_uri": "https://localhost:8080/"
        },
        "outputId": "875ed478-4e11-4b5b-ab0c-030c49cd5ed0"
      },
      "execution_count": 37,
      "outputs": [
        {
          "output_type": "stream",
          "name": "stdout",
          "text": [
            "Edges: 1292203\n",
            "Nodes: 23036\n"
          ]
        }
      ]
    },
    {
      "cell_type": "markdown",
      "source": [
        "Q1. \n",
        "\n",
        "For each drug, compute the number of genes\n",
        "and the number of diseases associated with the\n",
        "drug. Output results with top 5 number of genes in a descending orde"
      ],
      "metadata": {
        "id": "gjfiS_pTLHKS"
      }
    },
    {
      "cell_type": "code",
      "source": [
        "# Filter out the Compounds associated with Genes & Diseases\n",
        "disease_compounds = edges.filter(\n",
        "    edges.source.startswith('Compound') &\n",
        "    (\n",
        "        edges.target.startswith('Disease')\n",
        "    )\n",
        ")\n",
        "\n",
        "gene_compounds = edges.filter(\n",
        "    edges.source.startswith('Compound') &\n",
        "    (\n",
        "        edges.target.startswith('Gene') \n",
        "    )\n",
        ")"
      ],
      "metadata": {
        "id": "onta_8fvneu1"
      },
      "execution_count": 38,
      "outputs": []
    },
    {
      "cell_type": "code",
      "source": [
        "gene_compounds.sample(.01).show(10)"
      ],
      "metadata": {
        "colab": {
          "base_uri": "https://localhost:8080/"
        },
        "id": "TiSTUCzno-6P",
        "outputId": "57363d43-9ae4-44ba-b7a3-2dd12b64c118"
      },
      "execution_count": 39,
      "outputs": [
        {
          "output_type": "stream",
          "name": "stdout",
          "text": [
            "+-----------------+--------+------------+\n",
            "|           source|metaedge|      target|\n",
            "+-----------------+--------+------------+\n",
            "|Compound::DB01151|     CbG|  Gene::3358|\n",
            "|Compound::DB00471|     CbG|  Gene::5742|\n",
            "|Compound::DB00624|     CbG|  Gene::1588|\n",
            "|Compound::DB00259|     CbG|   Gene::766|\n",
            "|Compound::DB00604|     CbG|  Gene::1576|\n",
            "|Compound::DB06708|     CbG|  Gene::1565|\n",
            "|Compound::DB00675|     CbG|  Gene::1558|\n",
            "|Compound::DB00674|     CbG|  Gene::1576|\n",
            "|Compound::DB01577|     CbG|Gene::134864|\n",
            "|Compound::DB04552|     CbG|  Gene::5742|\n",
            "+-----------------+--------+------------+\n",
            "only showing top 10 rows\n",
            "\n"
          ]
        }
      ]
    },
    {
      "cell_type": "code",
      "source": [
        "disease_compounds.show(10)"
      ],
      "metadata": {
        "id": "BUYDeVNgdNHy",
        "outputId": "a6895f55-93e5-47ca-b9b7-f66b3e36eb5f",
        "colab": {
          "base_uri": "https://localhost:8080/"
        }
      },
      "execution_count": 40,
      "outputs": [
        {
          "output_type": "stream",
          "name": "stdout",
          "text": [
            "+-----------------+--------+-------------------+\n",
            "|           source|metaedge|             target|\n",
            "+-----------------+--------+-------------------+\n",
            "|Compound::DB00997|     CtD|  Disease::DOID:363|\n",
            "|Compound::DB00206|     CtD|Disease::DOID:10763|\n",
            "|Compound::DB00960|     CtD|Disease::DOID:10763|\n",
            "|Compound::DB00665|     CtD|Disease::DOID:10283|\n",
            "|Compound::DB00290|     CtD| Disease::DOID:2998|\n",
            "|Compound::DB01232|     CtD|  Disease::DOID:635|\n",
            "|Compound::DB00555|     CtD| Disease::DOID:1826|\n",
            "|Compound::DB00444|     CtD| Disease::DOID:2531|\n",
            "|Compound::DB00860|     CtD| Disease::DOID:4481|\n",
            "|Compound::DB00635|     CtD| Disease::DOID:2531|\n",
            "+-----------------+--------+-------------------+\n",
            "only showing top 10 rows\n",
            "\n"
          ]
        }
      ]
    },
    {
      "cell_type": "code",
      "source": [
        "# Convert  |source|target::xyz| -> |source|{target_type: 1}|\n",
        "disease_rdd_1 = disease_compounds.rdd.map(lambda x: (x[0],  1) )\n",
        "print(\"Diseases: \" , disease_rdd_1.take(3))\n",
        "gene_rdd_1 = gene_compounds.rdd.map(lambda x: (x[0],  1) )\n",
        "print(\"Genes: \", gene_rdd_1.take(3))"
      ],
      "metadata": {
        "id": "Uhk1jBJBBf6A",
        "outputId": "beeee6ed-1248-4ad9-f8dd-cb3c57fcd530",
        "colab": {
          "base_uri": "https://localhost:8080/"
        }
      },
      "execution_count": 41,
      "outputs": [
        {
          "output_type": "stream",
          "name": "stdout",
          "text": [
            "Diseases:  [('Compound::DB00997', 1), ('Compound::DB00206', 1), ('Compound::DB00960', 1)]\n",
            "Genes:  [('Compound::DB00514', 1), ('Compound::DB00686', 1), ('Compound::DB00786', 1)]\n"
          ]
        }
      ]
    },
    {
      "cell_type": "code",
      "source": [
        "disease_rdd_2 = disease_rdd_1.reduceByKey( lambda x, y: x + y)\n",
        "print(\"Diseases: \" , disease_rdd_2.take(3))\n",
        "gene_rdd_2 = gene_rdd_1.reduceByKey( lambda x, y: x + y)\n",
        "print(\"Genes: \" , gene_rdd_2.take(3))"
      ],
      "metadata": {
        "id": "THZzWCiACBtv",
        "outputId": "b379653e-cae8-47e7-aeec-4a2316b3016c",
        "colab": {
          "base_uri": "https://localhost:8080/"
        }
      },
      "execution_count": 42,
      "outputs": [
        {
          "output_type": "stream",
          "name": "stdout",
          "text": [
            "Diseases:  [('Compound::DB00997', 17), ('Compound::DB00206', 1), ('Compound::DB00290', 6)]\n",
            "Genes:  [('Compound::DB00514', 33), ('Compound::DB00786', 24), ('Compound::DB00217', 2)]\n"
          ]
        }
      ]
    },
    {
      "cell_type": "code",
      "source": [
        "joined_rdd = gene_rdd_2.join(disease_rdd_2)\n",
        "joined_rdd.take(5)"
      ],
      "metadata": {
        "id": "np1xdglrF0_Z",
        "outputId": "e855c612-1d9d-406c-8b2b-a548b848b5a1",
        "colab": {
          "base_uri": "https://localhost:8080/"
        }
      },
      "execution_count": 43,
      "outputs": [
        {
          "output_type": "execute_result",
          "data": {
            "text/plain": [
              "[('Compound::DB00514', (33, 2)),\n",
              " ('Compound::DB00203', (23, 3)),\n",
              " ('Compound::DB00909', (40, 1)),\n",
              " ('Compound::DB00575', (32, 6)),\n",
              " ('Compound::DB00502', (27, 4))]"
            ]
          },
          "metadata": {},
          "execution_count": 43
        }
      ]
    },
    {
      "cell_type": "code",
      "source": [
        "joined_rdd.sortBy(lambda x: x[1][0], ascending = False).take(3)"
      ],
      "metadata": {
        "id": "NsKYXX1BcE6l",
        "outputId": "da47d423-b7da-4adf-9bc0-940117901501",
        "colab": {
          "base_uri": "https://localhost:8080/"
        }
      },
      "execution_count": 44,
      "outputs": [
        {
          "output_type": "execute_result",
          "data": {
            "text/plain": [
              "[('Compound::DB08865', (585, 1)),\n",
              " ('Compound::DB01254', (564, 1)),\n",
              " ('Compound::DB00997', (532, 17))]"
            ]
          },
          "metadata": {},
          "execution_count": 44
        }
      ]
    },
    {
      "cell_type": "code",
      "source": [
        "# Q2: Compute the number of diseases associated\n",
        "# with 1, 2, 3, …, n drugs. Output results with the top\n",
        "# 5 number of diseases in a descending order.\n",
        "disease_compounds = edges.filter(\n",
        "    edges.source.startswith('Compound') &\n",
        "    (\n",
        "        edges.target.startswith('Disease')\n",
        "    )\n",
        "\n",
        ")"
      ],
      "metadata": {
        "id": "AXSFB6PAB3Yi"
      },
      "execution_count": null,
      "outputs": []
    },
    {
      "cell_type": "code",
      "source": [
        "# Q3: Get the name of drugs that have the top 5 number of genes. Output the results."
      ],
      "metadata": {
        "id": "A7-U3PMNCBwA"
      },
      "execution_count": null,
      "outputs": []
    }
  ]
}