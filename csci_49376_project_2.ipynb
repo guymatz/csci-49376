{
  "nbformat": 4,
  "nbformat_minor": 0,
  "metadata": {
    "colab": {
      "provenance": [],
      "include_colab_link": true
    },
    "kernelspec": {
      "name": "python3",
      "display_name": "Python 3"
    },
    "language_info": {
      "name": "python"
    }
  },
  "cells": [
    {
      "cell_type": "markdown",
      "metadata": {
        "id": "view-in-github",
        "colab_type": "text"
      },
      "source": [
        "<a href=\"https://colab.research.google.com/github/guymatz/csci-49376/blob/develop/csci_49376_project_2.ipynb\" target=\"_parent\"><img src=\"https://colab.research.google.com/assets/colab-badge.svg\" alt=\"Open In Colab\"/></a>"
      ]
    },
    {
      "cell_type": "code",
      "source": [
        "from google.colab import drive\n",
        "drive.mount('/content/drive')\n",
        "#drive.flush_and_unmount()"
      ],
      "metadata": {
        "id": "8CjGO5KZihVF"
      },
      "execution_count": null,
      "outputs": []
    },
    {
      "cell_type": "code",
      "execution_count": null,
      "metadata": {
        "id": "k9fFnE51muoC"
      },
      "outputs": [],
      "source": [
        "!pip install pyspark"
      ]
    },
    {
      "cell_type": "code",
      "source": [
        "# Import SparkSession\n",
        "from pyspark.sql import SparkSession\n",
        "from pyspark.sql import functions\n",
        "# Create a Spark Session\n",
        "ss = SparkSession.builder.master(\"local[*]\").getOrCreate()"
      ],
      "metadata": {
        "id": "tyNSMVr8mx8h"
      },
      "execution_count": 3,
      "outputs": []
    },
    {
      "cell_type": "code",
      "source": [
        "#edges = ss.read.csv(\"/content/drive/MyDrive/School/CSCI/Big-data/edges.tsv\", header=True, sep=\"\\t\")\n",
        "edges = ss.read.csv(\"/content/drive/MyDrive/School/CSCI/Big-data/edges-test.tsv\", header=True, sep=\"\\t\")\n",
        "nodes = ss.read.csv(\"/content/drive/MyDrive/School/CSCI/Big-data/nodes.tsv\", header=True, sep=\"\\t\")"
      ],
      "metadata": {
        "id": "t7oQMB90nKj_"
      },
      "execution_count": 37,
      "outputs": []
    },
    {
      "cell_type": "code",
      "source": [
        "print(f\"Edges: {edges.count()}\")\n",
        "print(f\"Nodes: {nodes.count()}\")"
      ],
      "metadata": {
        "id": "-EFcXxjrnRn8",
        "colab": {
          "base_uri": "https://localhost:8080/"
        },
        "outputId": "51d28769-3678-4b9a-92b7-ae6342c1bf82"
      },
      "execution_count": 38,
      "outputs": [
        {
          "output_type": "stream",
          "name": "stdout",
          "text": [
            "Edges: 826\n",
            "Nodes: 23036\n"
          ]
        }
      ]
    },
    {
      "cell_type": "markdown",
      "source": [
        "Q1. \n",
        "\n",
        "For each drug, compute the number of genes\n",
        "and the number of diseases associated with the\n",
        "drug. Output results with top 5 number of genes in a descending orde"
      ],
      "metadata": {
        "id": "gjfiS_pTLHKS"
      }
    },
    {
      "cell_type": "code",
      "source": [
        "# Filter out the Compounds associated with Genes & Diseases\n",
        "compounds = edges.filter(\n",
        "    edges.source.startswith('Compound') &\n",
        "    (\n",
        "        edges.target.startswith('Gene') \n",
        "        |\n",
        "        edges.target.startswith('Disease')\n",
        "    )\n",
        ")"
      ],
      "metadata": {
        "id": "onta_8fvneu1"
      },
      "execution_count": 88,
      "outputs": []
    },
    {
      "cell_type": "code",
      "source": [
        "compounds.sample(.01).show(10)"
      ],
      "metadata": {
        "colab": {
          "base_uri": "https://localhost:8080/"
        },
        "id": "TiSTUCzno-6P",
        "outputId": "48083ccc-2570-4257-fffb-453adfd51525"
      },
      "execution_count": 89,
      "outputs": [
        {
          "output_type": "stream",
          "name": "stdout",
          "text": [
            "+-----------------+--------+------------------+\n",
            "|           source|metaedge|            target|\n",
            "+-----------------+--------+------------------+\n",
            "|Compound::DB00993|     CbG|        Gene::7498|\n",
            "|Compound::DB00991|     CbG|        Gene::5742|\n",
            "|Compound::DB00997|     CuG|       Gene::23161|\n",
            "|Compound::DB00996|     CpD|Disease::DOID:3312|\n",
            "|Compound::DB00997|     CdG|        Gene::9928|\n",
            "+-----------------+--------+------------------+\n",
            "\n"
          ]
        }
      ]
    },
    {
      "cell_type": "code",
      "source": [
        "# Convert  |source|target::xyz| -> |source|{target_type: 1}|\n",
        "rdd2 = compounds.rdd.map(lambda x:\n",
        "                     (x[0], {x[2].split('::')[0]: 1})\n",
        "                     )\n",
        "rdd2.take(5)"
      ],
      "metadata": {
        "id": "Uhk1jBJBBf6A",
        "outputId": "ed597330-a804-44d8-b95e-73efd332ef5a",
        "colab": {
          "base_uri": "https://localhost:8080/"
        }
      },
      "execution_count": 82,
      "outputs": [
        {
          "output_type": "execute_result",
          "data": {
            "text/plain": [
              "[('Compound::DB00997', {'Disease': 1}),\n",
              " ('Compound::DB00993', {'Disease': 1}),\n",
              " ('Compound::DB00997', {'Disease': 1}),\n",
              " ('Compound::DB00993', {'Disease': 1}),\n",
              " ('Compound::DB00997', {'Disease': 1})]"
            ]
          },
          "metadata": {},
          "execution_count": 82
        }
      ]
    },
    {
      "cell_type": "markdown",
      "source": [
        "Find keys where both have either Disease or Gene, and add up the numbers.\n",
        "\n",
        "With this data:\n",
        "```\n",
        "Compound::DB00991 Gene::5743\n",
        "Compound::DB00991 Gene::5742\n",
        "Compound::DB00991 Gene::1559\n",
        "Compound::DB00991 Disease::DOID:7148\n",
        "Compound::DB00991 Disease::DOID:839\n",
        "```\n",
        " . . .  we should end up with \n",
        " ```\n",
        "[\n",
        "  ('Compound::DB00991', {'Gene': 3}),\n",
        "  ('Compound::DB00991', {'Disease': 2})\n",
        "]\n",
        " ```\n",
        "\n",
        "8"
      ],
      "metadata": {
        "id": "l7JIUUfSJjj0"
      }
    },
    {
      "cell_type": "code",
      "source": [
        "\n",
        "rdd3 = rdd2.reduceByKey( lambda x, y:\n",
        "    {'Disease': x.get('Disease', 0) + y.get('Disease', 0)}\n",
        "    if ('Disease' in x and 'Disease' in y)\n",
        "    else\n",
        "    {'Gene': x.get('Gene', 0) + y.get('Gene', 0)}\n",
        ")\n",
        "rdd3.collect()"
      ],
      "metadata": {
        "id": "THZzWCiACBtv",
        "outputId": "200b3513-c4e4-4536-af45-9aee59c3d01a",
        "colab": {
          "base_uri": "https://localhost:8080/"
        }
      },
      "execution_count": 90,
      "outputs": [
        {
          "output_type": "execute_result",
          "data": {
            "text/plain": [
              "[('Compound::DB00997', {'Gene': 532}),\n",
              " ('Compound::DB00993', {'Gene': 28}),\n",
              " ('Compound::DB00995', {'Gene': 63}),\n",
              " ('Compound::DB00999', {'Gene': 47}),\n",
              " ('Compound::DB00990', {'Gene': 51}),\n",
              " ('Compound::DB00996', {'Gene': 18}),\n",
              " ('Compound::DB00998', {'Gene': 4}),\n",
              " ('Compound::DB00992', {'Gene': 1}),\n",
              " ('Compound::DB00991', {'Gene': 3})]"
            ]
          },
          "metadata": {},
          "execution_count": 90
        }
      ]
    },
    {
      "cell_type": "code",
      "source": [
        "rdd3.reduceByKey( lambda x,y: x[1] + y[2] ).take(10)"
      ],
      "metadata": {
        "id": "np1xdglrF0_Z",
        "outputId": "19d47101-3c93-4e08-c6f5-6769433f0952",
        "colab": {
          "base_uri": "https://localhost:8080/"
        }
      },
      "execution_count": 75,
      "outputs": [
        {
          "output_type": "execute_result",
          "data": {
            "text/plain": [
              "[('Compound::DB00997', {'Disease': 17}),\n",
              " ('Compound::DB00993', {'Disease': 6}),\n",
              " ('Compound::DB00995', {'Disease': 2}),\n",
              " ('Compound::DB00999', {'Disease': 2}),\n",
              " ('Compound::DB00990', {'Disease': 1}),\n",
              " ('Compound::DB00996', {'Disease': 8}),\n",
              " ('Compound::DB00998', {'Disease': 1}),\n",
              " ('Compound::DB00992', {'Gene': 1}),\n",
              " ('Compound::DB00991', {'Disease': 2})]"
            ]
          },
          "metadata": {},
          "execution_count": 75
        }
      ]
    },
    {
      "cell_type": "code",
      "source": [
        "# Q2: Compute the number of diseases associated\n",
        "# with 1, 2, 3, …, n drugs. Output results with the top\n",
        "# 5 number of diseases in a descending order.\n",
        "disease_compounds = edges.filter(\n",
        "    edges.source.startswith('Compound') &\n",
        "    (\n",
        "        edges.target.startswith('Disease')\n",
        "    )\n",
        "\n",
        ")"
      ],
      "metadata": {
        "id": "AXSFB6PAB3Yi"
      },
      "execution_count": 17,
      "outputs": []
    },
    {
      "cell_type": "code",
      "source": [
        "# Q3: Get the name of drugs that have the top 5 number of genes. Output the results."
      ],
      "metadata": {
        "id": "A7-U3PMNCBwA"
      },
      "execution_count": 19,
      "outputs": []
    }
  ]
}